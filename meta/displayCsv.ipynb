{
 "cells": [
  {
   "cell_type": "markdown",
   "metadata": {},
   "source": [
    "Displaying lc solutions "
   ]
  },
  {
   "cell_type": "code",
   "execution_count": 1,
   "metadata": {},
   "outputs": [
    {
     "name": "stderr",
     "output_type": "stream",
     "text": [
      "C:\\Users\\PC\\AppData\\Local\\Temp\\ipykernel_30240\\1249961681.py:8: FutureWarning: The argument 'infer_datetime_format' is deprecated and will be removed in a future version. A strict version of it is now the default, see https://pandas.pydata.org/pdeps/0004-consistent-to-datetime-parsing.html. You can safely remove this argument.\n",
      "  df = pd.read_csv('leetcode_solutions.csv', date_format=arg_date_format,parse_dates=['Date'], infer_datetime_format=True)\n"
     ]
    }
   ],
   "source": [
    "import pandas as pd\n",
    "import matplotlib.pyplot as plt\n",
    "from datetime import datetime\n",
    "\n",
    "arg_date_format = \"%d/%m/%y\"\n",
    "\n",
    "# Load CSV file into a DataFrame\n",
    "df = pd.read_csv('leetcode_solutions.csv', date_format=arg_date_format,parse_dates=['Date'], infer_datetime_format=True)\n"
   ]
  },
  {
   "cell_type": "code",
   "execution_count": 4,
   "metadata": {},
   "outputs": [
    {
     "name": "stderr",
     "output_type": "stream",
     "text": [
      "C:\\Users\\PC\\AppData\\Local\\Temp\\ipykernel_30240\\1431560448.py:5: SettingWithCopyWarning: \n",
      "A value is trying to be set on a copy of a slice from a DataFrame.\n",
      "Try using .loc[row_indexer,col_indexer] = value instead\n",
      "\n",
      "See the caveats in the documentation: https://pandas.pydata.org/pandas-docs/stable/user_guide/indexing.html#returning-a-view-versus-a-copy\n",
      "  df_success['Time Solved'] = pd.to_timedelta(df_success['Time Solved']).dt.total_seconds()\n"
     ]
    },
    {
     "ename": "ValueError",
     "evalue": "unconverted data remains when parsing with format \"%d/%m/%y\": \"23\", at position 0. You might want to try:\n    - passing `format` if your strings have a consistent format;\n    - passing `format='ISO8601'` if your strings are all ISO8601 but not necessarily in exactly the same format;\n    - passing `format='mixed'`, and the format will be inferred for each element individually. You might want to use `dayfirst` alongside this.",
     "output_type": "error",
     "traceback": [
      "\u001b[1;31m---------------------------------------------------------------------------\u001b[0m",
      "\u001b[1;31mValueError\u001b[0m                                Traceback (most recent call last)",
      "\u001b[1;32md:\\Leetcode\\meta\\displayCsv.ipynb Cell 3\u001b[0m line \u001b[0;36m7\n\u001b[0;32m      <a href='vscode-notebook-cell:/d%3A/Leetcode/meta/displayCsv.ipynb#W2sZmlsZQ%3D%3D?line=4'>5</a>\u001b[0m df_success[\u001b[39m'\u001b[39m\u001b[39mTime Solved\u001b[39m\u001b[39m'\u001b[39m] \u001b[39m=\u001b[39m pd\u001b[39m.\u001b[39mto_timedelta(df_success[\u001b[39m'\u001b[39m\u001b[39mTime Solved\u001b[39m\u001b[39m'\u001b[39m])\u001b[39m.\u001b[39mdt\u001b[39m.\u001b[39mtotal_seconds()\n\u001b[0;32m      <a href='vscode-notebook-cell:/d%3A/Leetcode/meta/displayCsv.ipynb#W2sZmlsZQ%3D%3D?line=5'>6</a>\u001b[0m \u001b[39m# Convert 'Time Solved' column to timedelta for easier plotting\u001b[39;00m\n\u001b[1;32m----> <a href='vscode-notebook-cell:/d%3A/Leetcode/meta/displayCsv.ipynb#W2sZmlsZQ%3D%3D?line=6'>7</a>\u001b[0m df_success[\u001b[39m'\u001b[39m\u001b[39mDate\u001b[39m\u001b[39m'\u001b[39m] \u001b[39m=\u001b[39m pd\u001b[39m.\u001b[39;49mto_datetime(df_success[\u001b[39m'\u001b[39;49m\u001b[39mDate\u001b[39;49m\u001b[39m'\u001b[39;49m],\u001b[39mformat\u001b[39;49m\u001b[39m=\u001b[39;49marg_date_format)\n\u001b[0;32m     <a href='vscode-notebook-cell:/d%3A/Leetcode/meta/displayCsv.ipynb#W2sZmlsZQ%3D%3D?line=9'>10</a>\u001b[0m \u001b[39m# Define target times for each difficulty\u001b[39;00m\n\u001b[0;32m     <a href='vscode-notebook-cell:/d%3A/Leetcode/meta/displayCsv.ipynb#W2sZmlsZQ%3D%3D?line=10'>11</a>\u001b[0m target_times \u001b[39m=\u001b[39m {\u001b[39m'\u001b[39m\u001b[39mEasy\u001b[39m\u001b[39m'\u001b[39m: pd\u001b[39m.\u001b[39mTimedelta(minutes\u001b[39m=\u001b[39m\u001b[39m10\u001b[39m)\u001b[39m.\u001b[39mtotal_seconds(),\n\u001b[0;32m     <a href='vscode-notebook-cell:/d%3A/Leetcode/meta/displayCsv.ipynb#W2sZmlsZQ%3D%3D?line=11'>12</a>\u001b[0m                 \u001b[39m'\u001b[39m\u001b[39mMedium\u001b[39m\u001b[39m'\u001b[39m: pd\u001b[39m.\u001b[39mTimedelta(minutes\u001b[39m=\u001b[39m\u001b[39m25\u001b[39m)\u001b[39m.\u001b[39mtotal_seconds(),\n\u001b[0;32m     <a href='vscode-notebook-cell:/d%3A/Leetcode/meta/displayCsv.ipynb#W2sZmlsZQ%3D%3D?line=12'>13</a>\u001b[0m                 \u001b[39m'\u001b[39m\u001b[39mHard\u001b[39m\u001b[39m'\u001b[39m: pd\u001b[39m.\u001b[39mTimedelta(minutes\u001b[39m=\u001b[39m\u001b[39m40\u001b[39m)\u001b[39m.\u001b[39mtotal_seconds()}\n",
      "File \u001b[1;32mc:\\Python312\\Lib\\site-packages\\pandas\\core\\tools\\datetimes.py:1112\u001b[0m, in \u001b[0;36mto_datetime\u001b[1;34m(arg, errors, dayfirst, yearfirst, utc, format, exact, unit, infer_datetime_format, origin, cache)\u001b[0m\n\u001b[0;32m   1110\u001b[0m         result \u001b[39m=\u001b[39m arg\u001b[39m.\u001b[39mmap(cache_array)\n\u001b[0;32m   1111\u001b[0m     \u001b[39melse\u001b[39;00m:\n\u001b[1;32m-> 1112\u001b[0m         values \u001b[39m=\u001b[39m convert_listlike(arg\u001b[39m.\u001b[39;49m_values, \u001b[39mformat\u001b[39;49m)\n\u001b[0;32m   1113\u001b[0m         result \u001b[39m=\u001b[39m arg\u001b[39m.\u001b[39m_constructor(values, index\u001b[39m=\u001b[39marg\u001b[39m.\u001b[39mindex, name\u001b[39m=\u001b[39marg\u001b[39m.\u001b[39mname)\n\u001b[0;32m   1114\u001b[0m \u001b[39melif\u001b[39;00m \u001b[39misinstance\u001b[39m(arg, (ABCDataFrame, abc\u001b[39m.\u001b[39mMutableMapping)):\n",
      "File \u001b[1;32mc:\\Python312\\Lib\\site-packages\\pandas\\core\\tools\\datetimes.py:488\u001b[0m, in \u001b[0;36m_convert_listlike_datetimes\u001b[1;34m(arg, format, name, utc, unit, errors, dayfirst, yearfirst, exact)\u001b[0m\n\u001b[0;32m    486\u001b[0m \u001b[39m# `format` could be inferred, or user didn't ask for mixed-format parsing.\u001b[39;00m\n\u001b[0;32m    487\u001b[0m \u001b[39mif\u001b[39;00m \u001b[39mformat\u001b[39m \u001b[39mis\u001b[39;00m \u001b[39mnot\u001b[39;00m \u001b[39mNone\u001b[39;00m \u001b[39mand\u001b[39;00m \u001b[39mformat\u001b[39m \u001b[39m!=\u001b[39m \u001b[39m\"\u001b[39m\u001b[39mmixed\u001b[39m\u001b[39m\"\u001b[39m:\n\u001b[1;32m--> 488\u001b[0m     \u001b[39mreturn\u001b[39;00m _array_strptime_with_fallback(arg, name, utc, \u001b[39mformat\u001b[39;49m, exact, errors)\n\u001b[0;32m    490\u001b[0m result, tz_parsed \u001b[39m=\u001b[39m objects_to_datetime64ns(\n\u001b[0;32m    491\u001b[0m     arg,\n\u001b[0;32m    492\u001b[0m     dayfirst\u001b[39m=\u001b[39mdayfirst,\n\u001b[1;32m   (...)\u001b[0m\n\u001b[0;32m    496\u001b[0m     allow_object\u001b[39m=\u001b[39m\u001b[39mTrue\u001b[39;00m,\n\u001b[0;32m    497\u001b[0m )\n\u001b[0;32m    499\u001b[0m \u001b[39mif\u001b[39;00m tz_parsed \u001b[39mis\u001b[39;00m \u001b[39mnot\u001b[39;00m \u001b[39mNone\u001b[39;00m:\n\u001b[0;32m    500\u001b[0m     \u001b[39m# We can take a shortcut since the datetime64 numpy array\u001b[39;00m\n\u001b[0;32m    501\u001b[0m     \u001b[39m# is in UTC\u001b[39;00m\n",
      "File \u001b[1;32mc:\\Python312\\Lib\\site-packages\\pandas\\core\\tools\\datetimes.py:519\u001b[0m, in \u001b[0;36m_array_strptime_with_fallback\u001b[1;34m(arg, name, utc, fmt, exact, errors)\u001b[0m\n\u001b[0;32m    508\u001b[0m \u001b[39mdef\u001b[39;00m \u001b[39m_array_strptime_with_fallback\u001b[39m(\n\u001b[0;32m    509\u001b[0m     arg,\n\u001b[0;32m    510\u001b[0m     name,\n\u001b[1;32m   (...)\u001b[0m\n\u001b[0;32m    514\u001b[0m     errors: \u001b[39mstr\u001b[39m,\n\u001b[0;32m    515\u001b[0m ) \u001b[39m-\u001b[39m\u001b[39m>\u001b[39m Index:\n\u001b[0;32m    516\u001b[0m \u001b[39m    \u001b[39m\u001b[39m\"\"\"\u001b[39;00m\n\u001b[0;32m    517\u001b[0m \u001b[39m    Call array_strptime, with fallback behavior depending on 'errors'.\u001b[39;00m\n\u001b[0;32m    518\u001b[0m \u001b[39m    \"\"\"\u001b[39;00m\n\u001b[1;32m--> 519\u001b[0m     result, timezones \u001b[39m=\u001b[39m array_strptime(arg, fmt, exact\u001b[39m=\u001b[39;49mexact, errors\u001b[39m=\u001b[39;49merrors, utc\u001b[39m=\u001b[39;49mutc)\n\u001b[0;32m    520\u001b[0m     \u001b[39mif\u001b[39;00m \u001b[39many\u001b[39m(tz \u001b[39mis\u001b[39;00m \u001b[39mnot\u001b[39;00m \u001b[39mNone\u001b[39;00m \u001b[39mfor\u001b[39;00m tz \u001b[39min\u001b[39;00m timezones):\n\u001b[0;32m    521\u001b[0m         \u001b[39mreturn\u001b[39;00m _return_parsed_timezone_results(result, timezones, utc, name)\n",
      "File \u001b[1;32mstrptime.pyx:534\u001b[0m, in \u001b[0;36mpandas._libs.tslibs.strptime.array_strptime\u001b[1;34m()\u001b[0m\n",
      "File \u001b[1;32mstrptime.pyx:359\u001b[0m, in \u001b[0;36mpandas._libs.tslibs.strptime.array_strptime\u001b[1;34m()\u001b[0m\n",
      "\u001b[1;31mValueError\u001b[0m: unconverted data remains when parsing with format \"%d/%m/%y\": \"23\", at position 0. You might want to try:\n    - passing `format` if your strings have a consistent format;\n    - passing `format='ISO8601'` if your strings are all ISO8601 but not necessarily in exactly the same format;\n    - passing `format='mixed'`, and the format will be inferred for each element individually. You might want to use `dayfirst` alongside this."
     ]
    }
   ],
   "source": [
    "# Filter out rows where the problem was not successfully solved\n",
    "df_success = df[df['Success'] == 'Yes']\n",
    "\n",
    "# Convert 'Time Solved' column to timedelta for easier plotting\n",
    "df_success['Time Solved'] = pd.to_timedelta(df_success['Time Solved']).dt.total_seconds()\n",
    "# Convert 'Time Solved' column to timedelta for easier plotting\n",
    "df_success['Date'] = pd.to_datetime(df_success['Date'],dayfirst=true)\n",
    "\n",
    "\n",
    "# Define target times for each difficulty\n",
    "target_times = {'Easy': pd.Timedelta(minutes=10).total_seconds(),\n",
    "                'Medium': pd.Timedelta(minutes=25).total_seconds(),\n",
    "                'Hard': pd.Timedelta(minutes=40).total_seconds()}\n",
    "   \n",
    "\n",
    "# Define colors for each difficulty level\n",
    "color_dict = {'Easy': 'green', 'Medium': 'orange', 'Hard': 'red'}\n",
    "\n",
    "# Define target times for each difficulty\n",
    "solve_count = {'Easy': 0,\n",
    "                'Medium': 0,\n",
    "                'Hard': 0}\n",
    "\n",
    "\n",
    "solve_under = {'Easy': 0,\n",
    "                'Medium': 0,\n",
    "                'Hard': 0}\n",
    "\n",
    "\n",
    "# Plotting\n",
    "text = \"\"\n",
    "totalSolved = 0\n",
    "totalUnder = 0\n",
    "\n",
    "plt.figure(figsize=(10, 6))\n",
    "for difficulty, group in df_success.groupby('Difficulty'):\n",
    "    plt.scatter(group['Date'], group['Time Solved'], marker='o', linestyle='-', color=color_dict[difficulty], label=difficulty)\n",
    "    # Add horizontal lines for target times\n",
    "    unfiltered_df = df_success[(df_success['Difficulty'] == difficulty)]\n",
    "    solve_count[difficulty] = len(unfiltered_df)\n",
    "    totalSolved += solve_count[difficulty] \n",
    "\n",
    "    filtered_df = unfiltered_df[unfiltered_df['Time Solved'] <= target_times[difficulty]]\n",
    "    solve_under[difficulty] = len(filtered_df)\n",
    "    totalUnder += solve_under[difficulty]\n",
    "    print(unfiltered_df)\n",
    "    text += difficulty+\": \"\n",
    "    text+= (\"Solved: \"+str(solve_count[difficulty])+\" Under: \"+str(solve_under[difficulty])+\" Ratio: \"+str((solve_under[difficulty]/solve_count[difficulty])*100)+\"%\\n\")\n",
    "    #secTime = target_times[difficulty].total_seconds()\n",
    "\n",
    "\n",
    "text += \"Total solved: \"+str(totalSolved)+\" Total ratio: \"+str((totalUnder/totalSolved)*100)+\"%\"\n",
    "\n",
    "\n",
    "plt.axhspan(target_times['Hard'],ymax=df_success['Time Solved'].max(),color='gray',alpha=0.2,label='>40 mins')\n",
    "plt.axhspan(target_times['Medium'],target_times['Hard'],color=color_dict['Hard'],alpha=0.2,label='<40 mins')\n",
    "plt.axhspan(target_times['Easy'],target_times['Medium'],color=color_dict['Medium'],alpha=0.2,label='<25 mins')\n",
    "plt.axhspan(0,target_times['Easy'],color=color_dict['Easy'],alpha=0.2,label='<10 mins')\n",
    "\n",
    "\n",
    "\n",
    "#plt.axhline(secTime, color=color_dict[difficulty], linestyle='--', linewidth=1)\n",
    "    \n",
    "# Formatting the plot\n",
    "\n",
    "plt.title('LeetCode Solve Times Over Time')\n",
    "plt.suptitle(text)\n",
    "plt.xlabel('Date')\n",
    "plt.ylabel('Solve Time')\n",
    "plt.xticks(rotation=45)\n",
    "plt.grid(True)\n",
    "plt.tight_layout()\n",
    "ax = plt.gca()\n",
    "ax.legend(loc=2)\n",
    "ax.set_ylim([0, df_success['Time Solved'].max()])\n",
    "\n",
    "curr_img = plt.gcf()\n",
    "#save\n",
    "curr_img.savefig('leetcode_solutions.png')\n",
    "\n",
    "\n",
    "# Show plot\n",
    "plt.show()\n"
   ]
  },
  {
   "cell_type": "code",
   "execution_count": null,
   "metadata": {},
   "outputs": [],
   "source": []
  }
 ],
 "metadata": {
  "kernelspec": {
   "display_name": "Python 3",
   "language": "python",
   "name": "python3"
  },
  "language_info": {
   "codemirror_mode": {
    "name": "ipython",
    "version": 3
   },
   "file_extension": ".py",
   "mimetype": "text/x-python",
   "name": "python",
   "nbconvert_exporter": "python",
   "pygments_lexer": "ipython3",
   "version": "3.12.0"
  }
 },
 "nbformat": 4,
 "nbformat_minor": 2
}
